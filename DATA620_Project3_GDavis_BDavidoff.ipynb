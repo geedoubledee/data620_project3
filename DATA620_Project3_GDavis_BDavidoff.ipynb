{
  "nbformat": 4,
  "nbformat_minor": 0,
  "metadata": {
    "colab": {
      "provenance": [],
      "include_colab_link": true
    },
    "kernelspec": {
      "name": "python3",
      "display_name": "Python 3"
    },
    "language_info": {
      "name": "python"
    }
  },
  "cells": [
    {
      "cell_type": "markdown",
      "metadata": {
        "id": "view-in-github",
        "colab_type": "text"
      },
      "source": [
        "<a href=\"https://colab.research.google.com/github/geedoubledee/data620_project3/blob/main/DATA620_Project3_GDavis_BDavidoff.ipynb\" target=\"_parent\"><img src=\"https://colab.research.google.com/assets/colab-badge.svg\" alt=\"Open In Colab\"/></a>"
      ]
    },
    {
      "cell_type": "markdown",
      "source": [
        "# DATA620: Project 3\n",
        "#### by Glen Davis and Brett Davidoff"
      ],
      "metadata": {
        "id": "zfoq_lFr6vbD"
      }
    },
    {
      "cell_type": "code",
      "execution_count": 117,
      "metadata": {
        "id": "oo_ARn1Q0xfF"
      },
      "outputs": [],
      "source": [
        "# Import libraries\n",
        "import matplotlib.pyplot as plt\n",
        "import nltk\n",
        "from nltk.corpus import names\n",
        "import numpy as np\n",
        "import random\n",
        "from sklearn.feature_extraction import DictVectorizer\n",
        "from sklearn.feature_selection import SelectKBest, chi2\n",
        "from sklearn.inspection import permutation_importance\n",
        "from sklearn.model_selection import ShuffleSplit\n",
        "from sklearn.metrics import accuracy_score\n",
        "from sklearn.naive_bayes import GaussianNB\n",
        "from sklearn.tree import DecisionTreeClassifier\n",
        "import textwrap as tw"
      ]
    },
    {
      "cell_type": "markdown",
      "source": [
        "We load the names dataset from NLTK and shuffle the order of the entries so that it's random."
      ],
      "metadata": {
        "id": "Oxa77qqJ98e4"
      }
    },
    {
      "cell_type": "code",
      "source": [
        "# Load names dataset from NLTK\n",
        "nltk.download('names', quiet=True)\n",
        "male_names = [(name, 'male') for name in names.words('male.txt')]\n",
        "female_names = [(name, 'female') for name in names.words('female.txt')]\n",
        "all_names = male_names + female_names\n",
        "\n",
        "# Shuffle the dataset to ensure it's randomly ordered\n",
        "random.seed(4657)\n",
        "random.shuffle(all_names)\n",
        "ln = len(all_names)\n",
        "print(f\"\\nThe first 10 out of {ln} total entries in the shuffled names dataset:\\n\")\n",
        "wrapped = tw.fill(str(all_names[:10]))\n",
        "print(wrapped)"
      ],
      "metadata": {
        "id": "VOKKO9QY95jR",
        "colab": {
          "base_uri": "https://localhost:8080/"
        },
        "outputId": "59d8a3af-357c-4f11-d869-06e5f7397481"
      },
      "execution_count": 118,
      "outputs": [
        {
          "output_type": "stream",
          "name": "stdout",
          "text": [
            "\n",
            "The first 10 out of 7944 total entries in the shuffled names dataset:\n",
            "\n",
            "[('Iseabal', 'female'), ('Andee', 'female'), ('Englebart', 'male'),\n",
            "('Susi', 'female'), ('Row', 'female'), ('Delmar', 'male'), ('Faina',\n",
            "'female'), ('Nero', 'male'), ('Dena', 'female'), ('Crista', 'female')]\n"
          ]
        }
      ]
    },
    {
      "cell_type": "markdown",
      "source": [
        "We check for any overlap between the groups, i.e. names that are labeled both male and female."
      ],
      "metadata": {
        "id": "5qzid7Vx2GLJ"
      }
    },
    {
      "cell_type": "code",
      "source": [
        "def intersection(lst1, lst2):\n",
        "    lst3 = [name for (name, _) in lst1 + lst2]\n",
        "    seen = set()\n",
        "    overlap = [name for name in lst3 if name in seen or seen.add(name)]\n",
        "    return overlap\n",
        "overlap = intersection(male_names, female_names)\n",
        "print(f\"\\nNames labeled both male and female:\\n\")\n",
        "wrapped = tw.fill(str(overlap))\n",
        "print(wrapped)"
      ],
      "metadata": {
        "colab": {
          "base_uri": "https://localhost:8080/"
        },
        "id": "WuG-83S0xwJh",
        "outputId": "630bc849-d0e8-40d9-8d23-72b3f95182a8"
      },
      "execution_count": 119,
      "outputs": [
        {
          "output_type": "stream",
          "name": "stdout",
          "text": [
            "\n",
            "Names labeled both male and female:\n",
            "\n",
            "['Abbey', 'Abbie', 'Abby', 'Addie', 'Adrian', 'Adrien', 'Ajay',\n",
            "'Alex', 'Alexis', 'Alfie', 'Ali', 'Alix', 'Allie', 'Allyn', 'Andie',\n",
            "'Andrea', 'Andy', 'Angel', 'Angie', 'Ariel', 'Ashley', 'Aubrey',\n",
            "'Augustine', 'Austin', 'Averil', 'Barrie', 'Barry', 'Beau', 'Bennie',\n",
            "'Benny', 'Bernie', 'Bert', 'Bertie', 'Bill', 'Billie', 'Billy',\n",
            "'Blair', 'Blake', 'Bo', 'Bobbie', 'Bobby', 'Brandy', 'Brett', 'Britt',\n",
            "'Brook', 'Brooke', 'Brooks', 'Bryn', 'Cal', 'Cam', 'Cammy', 'Carey',\n",
            "'Carlie', 'Carlin', 'Carmine', 'Carroll', 'Cary', 'Caryl', 'Casey',\n",
            "'Cass', 'Cat', 'Cecil', 'Chad', 'Chris', 'Chrissy', 'Christian',\n",
            "'Christie', 'Christy', 'Clair', 'Claire', 'Clare', 'Claude', 'Clem',\n",
            "'Clemmie', 'Cody', 'Connie', 'Constantine', 'Corey', 'Corrie', 'Cory',\n",
            "'Courtney', 'Cris', 'Daffy', 'Dale', 'Dallas', 'Dana', 'Dani',\n",
            "'Daniel', 'Dannie', 'Danny', 'Darby', 'Darcy', 'Darryl', 'Daryl',\n",
            "'Deane', 'Del', 'Dell', 'Demetris', 'Dennie', 'Denny', 'Devin',\n",
            "'Devon', 'Dion', 'Dionis', 'Dominique', 'Donnie', 'Donny', 'Dorian',\n",
            "'Dory', 'Drew', 'Eddie', 'Eddy', 'Edie', 'Elisha', 'Emmy', 'Erin',\n",
            "'Esme', 'Evelyn', 'Felice', 'Fran', 'Francis', 'Frank', 'Frankie',\n",
            "'Franky', 'Fred', 'Freddie', 'Freddy', 'Gabriel', 'Gabriell', 'Gail',\n",
            "'Gale', 'Gay', 'Gayle', 'Gene', 'George', 'Georgia', 'Georgie',\n",
            "'Geri', 'Germaine', 'Gerri', 'Gerry', 'Gill', 'Ginger', 'Glen',\n",
            "'Glenn', 'Grace', 'Gretchen', 'Gus', 'Haleigh', 'Haley', 'Hannibal',\n",
            "'Harley', 'Hazel', 'Heath', 'Henrie', 'Hilary', 'Hillary', 'Holly',\n",
            "'Ike', 'Ikey', 'Ira', 'Isa', 'Isador', 'Isadore', 'Jackie', 'Jaime',\n",
            "'Jamie', 'Jan', 'Jean', 'Jere', 'Jermaine', 'Jerrie', 'Jerry', 'Jess',\n",
            "'Jesse', 'Jessie', 'Jo', 'Jodi', 'Jodie', 'Jody', 'Joey', 'Jordan',\n",
            "'Juanita', 'Jude', 'Judith', 'Judy', 'Julie', 'Justin', 'Karel',\n",
            "'Kellen', 'Kelley', 'Kelly', 'Kelsey', 'Kerry', 'Kim', 'Kip', 'Kirby',\n",
            "'Kit', 'Kris', 'Kyle', 'Lane', 'Lanny', 'Lauren', 'Laurie', 'Lee',\n",
            "'Leigh', 'Leland', 'Lesley', 'Leslie', 'Lin', 'Lind', 'Lindsay',\n",
            "'Lindsey', 'Lindy', 'Lonnie', 'Loren', 'Lorne', 'Lorrie', 'Lou',\n",
            "'Luce', 'Lyn', 'Lynn', 'Maddie', 'Maddy', 'Marietta', 'Marion',\n",
            "'Marlo', 'Martie', 'Marty', 'Mattie', 'Matty', 'Maurise', 'Max',\n",
            "'Maxie', 'Mead', 'Meade', 'Mel', 'Meredith', 'Merle', 'Merrill',\n",
            "'Merry', 'Meryl', 'Michal', 'Michel', 'Michele', 'Mickie', 'Micky',\n",
            "'Millicent', 'Morgan', 'Morlee', 'Muffin', 'Nat', 'Nichole', 'Nickie',\n",
            "'Nicky', 'Niki', 'Nikki', 'Noel', 'Ollie', 'Page', 'Paige', 'Pat',\n",
            "'Patrice', 'Patsy', 'Pattie', 'Patty', 'Pen', 'Pennie', 'Penny',\n",
            "'Perry', 'Phil', 'Pooh', 'Quentin', 'Quinn', 'Randi', 'Randie',\n",
            "'Randy', 'Ray', 'Regan', 'Reggie', 'Rene', 'Rey', 'Ricki', 'Rickie',\n",
            "'Ricky', 'Rikki', 'Robbie', 'Robin', 'Ronnie', 'Ronny', 'Rory',\n",
            "'Ruby', 'Sal', 'Sam', 'Sammy', 'Sandy', 'Sascha', 'Sasha', 'Saundra',\n",
            "'Sayre', 'Scotty', 'Sean', 'Shaine', 'Shane', 'Shannon', 'Shaun',\n",
            "'Shawn', 'Shay', 'Shayne', 'Shea', 'Shelby', 'Shell', 'Shelley',\n",
            "'Sibyl', 'Simone', 'Sonnie', 'Sonny', 'Stacy', 'Sunny', 'Sydney',\n",
            "'Tabbie', 'Tabby', 'Tallie', 'Tally', 'Tammie', 'Tammy', 'Tate',\n",
            "'Ted', 'Teddie', 'Teddy', 'Terri', 'Terry', 'Theo', 'Tim', 'Timmie',\n",
            "'Timmy', 'Tobe', 'Tobie', 'Toby', 'Tommie', 'Tommy', 'Tony', 'Torey',\n",
            "'Trace', 'Tracey', 'Tracie', 'Tracy', 'Val', 'Vale', 'Valentine',\n",
            "'Van', 'Vin', 'Vinnie', 'Vinny', 'Virgie', 'Wallie', 'Wallis',\n",
            "'Wally', 'Whitney', 'Willi', 'Willie', 'Willy', 'Winnie', 'Winny',\n",
            "'Wynn']\n"
          ]
        }
      ]
    },
    {
      "cell_type": "markdown",
      "source": [
        "We relabel the overlapping names as neutral and check the gender distributions of the entries in the names dataset."
      ],
      "metadata": {
        "id": "9hHhw8mKrvVr"
      }
    },
    {
      "cell_type": "code",
      "source": [
        "neutral_names = [(name, \"neutral\") for name in overlap]\n",
        "male_names = [(name, gender) for (name, gender) in male_names if name not in overlap]\n",
        "female_names = [(name, gender) for (name, gender) in female_names if name not in overlap]\n",
        "all_names = male_names + neutral_names + female_names\n",
        "x = [\"male\", \"neutral\", \"female\"]\n",
        "y = [len(male_names), len(neutral_names), len(female_names)]\n",
        "fig, ax = plt.subplots()\n",
        "bars = ax.bar(x, y, color = [\"tab:blue\", \"tab:orange\", \"tab:purple\"])\n",
        "ax.set_xlabel(\"Gender\")\n",
        "ax.set_ylabel(\"Count\")\n",
        "ax.set_title(\"Count of Names by Gender\")\n",
        "def autolabel(bars):\n",
        "    for bar in bars:\n",
        "        height = bar.get_height()\n",
        "        perc_str = str(round(100 * height / len(all_names), 1)) + \"%\"\n",
        "        ax.text(bar.get_x() + bar.get_width()/2., height - 100,\n",
        "                '%s' % perc_str, ha = \"center\", va = \"top\",\n",
        "                color = \"white\", weight = \"bold\", size = 12)\n",
        "autolabel(bars)\n",
        "plt.show()"
      ],
      "metadata": {
        "colab": {
          "base_uri": "https://localhost:8080/",
          "height": 472
        },
        "id": "yABo4jnln3ZR",
        "outputId": "d660f595-ae67-4ffa-f18d-7aa2c886f8b8"
      },
      "execution_count": 120,
      "outputs": [
        {
          "output_type": "display_data",
          "data": {
            "text/plain": [
              "<Figure size 640x480 with 1 Axes>"
            ],
            "image/png": "[encoded data removed]"
          },
          "metadata": {}
        }
      ]
    },
    {
      "cell_type": "markdown",
      "source": [
        "There are about 1.8 times as many female entries in the names dataset as there are male entries after relabeling the gender neutral names. This is only a moderate class imbalance and should not affect the predictive power of our models. We won't try to predict neutral names, so we remove those entries from further consideration and reshuffle all remaining entries in the names dataset."
      ],
      "metadata": {
        "id": "ZFyQICLkr34e"
      }
    },
    {
      "cell_type": "code",
      "source": [
        "all_names = male_names + female_names\n",
        "random.shuffle(all_names)"
      ],
      "metadata": {
        "id": "THV0MfdY-fsX"
      },
      "execution_count": 121,
      "outputs": []
    },
    {
      "cell_type": "markdown",
      "source": [
        "We define a function to extract a small number of features from the entries in the names dataset: a) the last letter of the name; b) the first letter of the name; c) the count of total characters within the name; and d) the count of vowel characters within the name."
      ],
      "metadata": {
        "id": "EW-05CDYOqYJ"
      }
    },
    {
      "cell_type": "code",
      "source": [
        "def feature_extraction(name):\n",
        "    name = name.lower()\n",
        "    features = {\n",
        "        \"last_letter\": name[-1],\n",
        "        \"first_letter\": name[0],\n",
        "        \"length\": len(name),\n",
        "        \"num_vowels\": sum(name.count(v) for v in \"aeiou\"),\n",
        "    }\n",
        "    return features"
      ],
      "metadata": {
        "id": "Dyj9emMAjRcM"
      },
      "execution_count": 122,
      "outputs": []
    },
    {
      "cell_type": "markdown",
      "source": [
        "We apply the feature extraction function to the entries in the names dataset."
      ],
      "metadata": {
        "id": "FlTG7RvsPy5T"
      }
    },
    {
      "cell_type": "code",
      "source": [
        "# Extract features\n",
        "features = [feature_extraction(name) for name, gender in all_names]\n",
        "print(f\"\\nExtracted features for the first 10 entries in the shuffled names dataset:\\n\")\n",
        "wrapped = tw.fill(str(features[:10]))\n",
        "print(wrapped)"
      ],
      "metadata": {
        "colab": {
          "base_uri": "https://localhost:8080/"
        },
        "id": "qGPWoTZOjdm_",
        "outputId": "d2635dcb-69f1-489b-fbe6-157211d6d95e"
      },
      "execution_count": 123,
      "outputs": [
        {
          "output_type": "stream",
          "name": "stdout",
          "text": [
            "\n",
            "Extracted features for the first 10 entries in the shuffled names dataset:\n",
            "\n",
            "[{'last_letter': 'n', 'first_letter': 's', 'length': 7, 'num_vowels':\n",
            "2}, {'last_letter': 'n', 'first_letter': 'm', 'length': 5,\n",
            "'num_vowels': 2}, {'last_letter': 'h', 'first_letter': 'w', 'length':\n",
            "7, 'num_vowels': 3}, {'last_letter': 'e', 'first_letter': 'e',\n",
            "'length': 5, 'num_vowels': 3}, {'last_letter': 's', 'first_letter':\n",
            "'r', 'length': 7, 'num_vowels': 2}, {'last_letter': 'a',\n",
            "'first_letter': 'e', 'length': 6, 'num_vowels': 2}, {'last_letter':\n",
            "'a', 'first_letter': 'd', 'length': 6, 'num_vowels': 3},\n",
            "{'last_letter': 'y', 'first_letter': 'a', 'length': 5, 'num_vowels':\n",
            "1}, {'last_letter': 'a', 'first_letter': 'm', 'length': 5,\n",
            "'num_vowels': 3}, {'last_letter': 'n', 'first_letter': 'w', 'length':\n",
            "7, 'num_vowels': 3}]\n"
          ]
        }
      ]
    },
    {
      "cell_type": "markdown",
      "source": [
        "We vectorize the features so that the categorical features are represented numerically for faster model building and testing."
      ],
      "metadata": {
        "id": "g1s3-TqKcilG"
      }
    },
    {
      "cell_type": "code",
      "source": [
        "# Convert categorical features to numerical features\n",
        "vectorizer = DictVectorizer()\n",
        "features_vect = vectorizer.fit_transform(features).toarray()"
      ],
      "metadata": {
        "id": "LDdEzhT0TbnC"
      },
      "execution_count": 124,
      "outputs": []
    },
    {
      "cell_type": "markdown",
      "source": [
        "We extract the response variable: the gender labels."
      ],
      "metadata": {
        "id": "K3L5CifNc5Ry"
      }
    },
    {
      "cell_type": "code",
      "source": [
        "# Extract labels\n",
        "labels = np.array([gender for name, gender in all_names])\n",
        "print(f\"\\nLabels for the first 10 entries in the shuffled names dataset:\\n\")\n",
        "wrapped = tw.fill(str(labels[:10]))\n",
        "print(wrapped)"
      ],
      "metadata": {
        "colab": {
          "base_uri": "https://localhost:8080/"
        },
        "id": "jcrTzetCSfi8",
        "outputId": "9fcebe46-fa5c-4fdc-cf40-f34147863cad"
      },
      "execution_count": 125,
      "outputs": [
        {
          "output_type": "stream",
          "name": "stdout",
          "text": [
            "\n",
            "Labels for the first 10 entries in the shuffled names dataset:\n",
            "\n",
            "['male' 'female' 'female' 'female' 'male' 'female' 'female' 'male'\n",
            "'female' 'male']\n"
          ]
        }
      ]
    },
    {
      "cell_type": "markdown",
      "source": [
        "We split the vectorized features and the labels into train, validate, and test sets."
      ],
      "metadata": {
        "id": "iepIshjxO1iS"
      }
    },
    {
      "cell_type": "code",
      "source": [
        "# Split the dataset into train_validate and test sets\n",
        "sss = ShuffleSplit(n_splits = 1, test_size = 500, random_state = 42)\n",
        "sss.get_n_splits(features_vect, labels)\n",
        "train_validate_index, test_index = next(sss.split(features_vect, labels))\n",
        "x_train_validate, x_test = features_vect[train_validate_index], features_vect[test_index]\n",
        "y_train_validate, y_test = labels[train_validate_index], labels[test_index]\n",
        "\n",
        "# Perform another split on the train_validate set\n",
        "sss = ShuffleSplit(n_splits = 1, test_size = 500, random_state = 43)\n",
        "sss.get_n_splits(x_train_validate, y_train_validate)\n",
        "train_index, validate_index = next(sss.split(x_train_validate, y_train_validate))\n",
        "x_train, x_validate = x_train_validate[train_index], x_train_validate[validate_index]\n",
        "y_train, y_validate = y_train_validate[train_index], y_train_validate[validate_index]"
      ],
      "metadata": {
        "id": "gru2uYukjYo4"
      },
      "execution_count": 126,
      "outputs": []
    },
    {
      "cell_type": "markdown",
      "source": [
        "We train a Decision Tree Classifier and a Naive Bayes Classifier, and we calculate the predictive accuracy for both models using the validate set."
      ],
      "metadata": {
        "id": "R3EUiquFfgXb"
      }
    },
    {
      "cell_type": "code",
      "source": [
        "# Train a Decision Tree Classifier\n",
        "classifierDT = DecisionTreeClassifier()\n",
        "classifierDT.fit(x_train, y_train)\n",
        "\n",
        "# Train a Naive Bayes Classifier\n",
        "classifierNB = GaussianNB()\n",
        "classifierNB.fit(x_train, y_train)\n",
        "\n",
        "# Evaluate DTC on the validation set\n",
        "preds_val_DT = classifierDT.predict(x_validate)\n",
        "acc_val_DT = accuracy_score(y_validate, preds_val_DT)\n",
        "print(f\"\\nDecision Tree Classifier: Validation Set Predictive Accuracy: {acc_val_DT}\")\n",
        "\n",
        "# Evaluate NBC on the validation set\n",
        "preds_val_NB = classifierNB.predict(x_validate)\n",
        "acc_val_NB = accuracy_score(y_validate, preds_val_NB)\n",
        "print(f\"Naive Bayes Classifier: Validation Set Predictive Accuracy: {acc_val_NB}\")"
      ],
      "metadata": {
        "colab": {
          "base_uri": "https://localhost:8080/"
        },
        "id": "CNfbpZgMZ7v-",
        "outputId": "f18a789d-11d8-496a-f0c4-193b50d9cba5"
      },
      "execution_count": 127,
      "outputs": [
        {
          "output_type": "stream",
          "name": "stdout",
          "text": [
            "\n",
            "Decision Tree Classifier: Validation Set Predictive Accuracy: 0.808\n",
            "Naive Bayes Classifier: Validation Set Predictive Accuracy: 0.774\n"
          ]
        }
      ]
    },
    {
      "cell_type": "markdown",
      "source": [
        "Using a small number of straightforward text features derived from the names, the Decision Tree Classifier and the Naive Bayes Classifier both have okay performance. However, the Decision Tree Classifier's predictive accuracy of 80.8% beats the Naive Bayes Classifier's score by 3.4%.\n",
        "\n",
        "In an attempt to improve both models' predictive accuracy, we expand the feature extraction function so that it derives a wider variety of features from the names. The new features include: the ratio of vowel characters to total characters; the first two letters of the name; the last two letters of the name; the first three letters of the name; the last three letters of the name; the count of consonant characters; the consonant to vowel character ratio; and all unique character sequences of lengths two to four."
      ],
      "metadata": {
        "id": "xMM57QAUtmlP"
      }
    },
    {
      "cell_type": "code",
      "source": [
        "# Increase feature selection complexity\n",
        "def feature_extraction2(name):\n",
        "    name = name.lower()\n",
        "    features = feature_extraction(name)\n",
        "    features[\"vowel_to_length_ratio\"] = features[\"num_vowels\"] / features[\"length\"]\n",
        "    features[\"first_2_letters\"] = name[:2]\n",
        "    features[\"last_2_letters\"] = name[-2:]\n",
        "    features[\"first_3_letters\"] = name[:3] if features[\"length\"] > 2 else 0\n",
        "    features[\"last_3_letters\"] = name[-3:] if features[\"length\"] > 2 else 0\n",
        "    features[\"num_consonants\"] = sum(name.count(c) for c in \"bcdfghjklmnpqrstvwxyz\")\n",
        "    features[\"consonant_to_vowel_ratio\"] = features[\"num_consonants\"] / features[\"num_vowels\"] if features[\"num_vowels\"] > 0 else 0\n",
        "    for n in range(2, 5): # Add all 2- to 4-letter ngrams\n",
        "        for i in range(len(name) - n + 1):\n",
        "            ngram = name[i:i+n]\n",
        "            features[f\"{n}gram_{ngram}\"] = features.get(f\"{n}gram_{ngram}\", 0) + 1\n",
        "    return features"
      ],
      "metadata": {
        "id": "dn4vChcutpml"
      },
      "execution_count": 128,
      "outputs": []
    },
    {
      "cell_type": "markdown",
      "source": [
        "We apply the newly expanded function to the names dataset and update the train, validate, and test sets to include the new features. Importantly, we use the same indices we generated for the original splits so that the observations remain in the same order and groups. Then we refit the classifiers and calculate their new predictive accuracy scores."
      ],
      "metadata": {
        "id": "N82Nn7sllaHo"
      }
    },
    {
      "cell_type": "code",
      "source": [
        "# Extract and vectorize new features, then split the data again using the same indices as earlier\n",
        "features = [feature_extraction2(name) for name, gender in all_names]\n",
        "features_vect = vectorizer.fit_transform(features).toarray()\n",
        "x_train_validate, x_test = features_vect[train_validate_index], features_vect[test_index]\n",
        "y_train_validate, y_test = labels[train_validate_index], labels[test_index]\n",
        "x_train, x_validate = x_train_validate[train_index], x_train_validate[validate_index]\n",
        "y_train, y_validate = y_train_validate[train_index], y_train_validate[validate_index]\n",
        "\n",
        "# Refit the models\n",
        "classifierDT.fit(x_train, y_train)\n",
        "classifierNB.fit(x_train, y_train)\n",
        "\n",
        "# Evaluate new DTC on the validation set\n",
        "preds_val_DT = classifierDT.predict(x_validate)\n",
        "acc_val_DT = accuracy_score(y_validate, preds_val_DT)\n",
        "print(f\"\\nDecision Tree Classifier: Validation Set Predictive Accuracy: {acc_val_DT}\")\n",
        "\n",
        "# Evaluate new NBC on the validation set\n",
        "preds_val_NB = classifierNB.predict(x_validate)\n",
        "acc_val_NB = accuracy_score(y_validate, preds_val_NB)\n",
        "print(f\"Naive Bayes Classifier: Validation Set Predictive Accuracy: {acc_val_NB}\")"
      ],
      "metadata": {
        "colab": {
          "base_uri": "https://localhost:8080/"
        },
        "id": "tSB8Gd5s0vNb",
        "outputId": "26f7e153-b30e-41b3-c268-5848f3555320"
      },
      "execution_count": 129,
      "outputs": [
        {
          "output_type": "stream",
          "name": "stdout",
          "text": [
            "\n",
            "Decision Tree Classifier: Validation Set Predictive Accuracy: 0.858\n",
            "Naive Bayes Classifier: Validation Set Predictive Accuracy: 0.88\n"
          ]
        }
      ]
    },
    {
      "cell_type": "markdown",
      "source": [
        "The Decision Tree Classifier's performance improved by 5%, but the Naive Bayes Classifier's performance improved by 10.6%, and it now beats the Decision Tree Classifier by 2.2%.\n",
        "\n",
        "We take a look at the 20 most important features in the Decision Tree Classifier. Calculating feature importance for Naive Bayes Classifiers requires permutation and is unfortunately too costly computation-wise in this instance, so we skip the calculations for that model."
      ],
      "metadata": {
        "id": "CONtC5-K1DI1"
      }
    },
    {
      "cell_type": "code",
      "source": [
        "# Extract feature importance estimates from the DTC\n",
        "feature_imp_DT = classifierDT.feature_importances_\n",
        "\n",
        "# Get feature names from the DictVectorizer\n",
        "feature_names = vectorizer.get_feature_names_out()\n",
        "\n",
        "# Combine names and importances\n",
        "feature_imp_DT = zip(feature_names, feature_imp_DT)\n",
        "feature_imp_DT = sorted(feature_imp_DT, key=lambda x: x[1], reverse=True)\n",
        "\n",
        "# Print top N most important features\n",
        "print(\"\\nTop 20 features in the Decision Tree Classifier:\\n\")\n",
        "for feature, importance in feature_imp_DT[:20]:\n",
        "    print(f\"{feature}: {importance}\")\n"
      ],
      "metadata": {
        "colab": {
          "base_uri": "https://localhost:8080/"
        },
        "id": "NfSAzqiI1Dyv",
        "outputId": "7121186c-518c-4f01-f908-58b3104b2ac3"
      },
      "execution_count": 130,
      "outputs": [
        {
          "output_type": "stream",
          "name": "stdout",
          "text": [
            "\n",
            "Top 20 features in the Decision Tree Classifier:\n",
            "\n",
            "last_letter=a: 0.17514107327445277\n",
            "last_letter=e: 0.0954949791964926\n",
            "last_letter=i: 0.052677750828446245\n",
            "last_letter=y: 0.025702685417148822\n",
            "2gram_ly: 0.022096900575909805\n",
            "num_vowels: 0.019571358059975272\n",
            "last_3_letters=een: 0.012748720861938232\n",
            "3gram_ann: 0.010468823859989018\n",
            "2gram_is: 0.009021947886407393\n",
            "2gram_ry: 0.00879624608020424\n",
            "last_2_letters=ah: 0.008701350080725083\n",
            "vowel_to_length_ratio: 0.00865004136625055\n",
            "length: 0.008046841399684907\n",
            "2gram_li: 0.007308029588470398\n",
            "last_letter=l: 0.007195161048870635\n",
            "2gram_be: 0.006759980334491631\n",
            "2gram_el: 0.005091104435371184\n",
            "last_2_letters=th: 0.004257593812350817\n",
            "first_letter=c: 0.004195190052561389\n",
            "consonant_to_vowel_ratio: 0.0038544037457838845\n"
          ]
        }
      ]
    },
    {
      "cell_type": "markdown",
      "source": [
        "Since our feature list includes all unique character sequences of lengths two to four, there are a lot more features than just these 20, and many of them are likely not contributing much to either model other than overfitting. We limit the number of features the models use to the 20 best features according to a Chi-squared test, then refit the classifiers and calculate their new predictive accuracy scores."
      ],
      "metadata": {
        "id": "DE1d8mENPVrv"
      }
    },
    {
      "cell_type": "code",
      "source": [
        "#Restrict the features to the 20 best according to a chi2 test\n",
        "support = SelectKBest(chi2, k=20).fit(x_train, y_train)\n",
        "vectorizer.restrict(support.get_support())\n",
        "features_vect = vectorizer.fit_transform(features).toarray()\n",
        "x_train_validate, x_test = features_vect[train_validate_index], features_vect[test_index]\n",
        "y_train_validate, y_test = labels[train_validate_index], labels[test_index]\n",
        "x_train, x_validate = x_train_validate[train_index], x_train_validate[validate_index]\n",
        "y_train, y_validate = y_train_validate[train_index], y_train_validate[validate_index]\n",
        "\n",
        "# Refit the models\n",
        "classifierDT.fit(x_train, y_train)\n",
        "classifierNB.fit(x_train, y_train)\n",
        "\n",
        "# Evaluate new DTC on the validation set\n",
        "preds_val_DT = classifierDT.predict(x_validate)\n",
        "acc_val_DT = accuracy_score(y_validate, preds_val_DT)\n",
        "print(f\"\\nDecision Tree Classifier: Validation Set Predictive Accuracy: {acc_val_DT}\")\n",
        "\n",
        "# Evaluate new NBC on the validation set\n",
        "preds_val_NB = classifierNB.predict(x_validate)\n",
        "acc_val_NB = accuracy_score(y_validate, preds_val_NB)\n",
        "print(f\"Naive Bayes Classifier: Validation Set Predictive Accuracy: {acc_val_NB}\")"
      ],
      "metadata": {
        "colab": {
          "base_uri": "https://localhost:8080/"
        },
        "id": "o2SYtEIlQGvV",
        "outputId": "3ae4dcdb-d5fb-4843-cf8c-e984cb030581"
      },
      "execution_count": 131,
      "outputs": [
        {
          "output_type": "stream",
          "name": "stdout",
          "text": [
            "\n",
            "Decision Tree Classifier: Validation Set Predictive Accuracy: 0.848\n",
            "Naive Bayes Classifier: Validation Set Predictive Accuracy: 0.88\n"
          ]
        }
      ]
    },
    {
      "cell_type": "markdown",
      "source": [
        "After restricting the number of features, the Decision Tree Classifier's predictive accuracy decreases by 1% on the validation set, but the Naive Bayes Classifier's predictive accuracy remains the same. Finally, we calculate the predictive accuracy for both models on the test set."
      ],
      "metadata": {
        "id": "fSaD9AJpO9qD"
      }
    },
    {
      "cell_type": "code",
      "source": [
        "# Evaluate new DTC on the validation set\n",
        "preds_val_DT = classifierDT.predict(x_test)\n",
        "acc_val_DT = accuracy_score(y_test, preds_val_DT)\n",
        "print(f\"\\nDecision Tree Classifier: Validation Set Predictive Accuracy: {acc_val_DT}\")\n",
        "\n",
        "# Evaluate new NBC on the validation set\n",
        "preds_val_NB = classifierNB.predict(x_test)\n",
        "acc_val_NB = accuracy_score(y_test, preds_val_NB)\n",
        "print(f\"Naive Bayes Classifier: Validation Set Predictive Accuracy: {acc_val_NB}\")"
      ],
      "metadata": {
        "colab": {
          "base_uri": "https://localhost:8080/"
        },
        "id": "6PUoevXVQ4DL",
        "outputId": "ef3cddec-3199-4af7-e9e5-56015322093b"
      },
      "execution_count": 132,
      "outputs": [
        {
          "output_type": "stream",
          "name": "stdout",
          "text": [
            "\n",
            "Decision Tree Classifier: Validation Set Predictive Accuracy: 0.838\n",
            "Naive Bayes Classifier: Validation Set Predictive Accuracy: 0.876\n"
          ]
        }
      ]
    },
    {
      "cell_type": "markdown",
      "source": [
        "Both models perform a little worse on the test set, with the Naive Bayes Classifier beating the Decision Tree Classifier by 3.8%. Still, using a limited number of features, both of their final predictive accuracy scores are respectable."
      ],
      "metadata": {
        "id": "nM_5fOGjaR_7"
      }
    }
  ]
}